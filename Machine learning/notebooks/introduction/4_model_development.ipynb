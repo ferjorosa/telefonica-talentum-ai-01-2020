{
 "cells": [
  {
   "cell_type": "markdown",
   "metadata": {},
   "source": [
    "### Nota:\n",
    "\n",
    "En el modulo 2 hemos creado 2 variables dummy pero no hemos explicado como interpretarlas en una regresion lineal. Para ello podemos seguir el ejemplo (aplicado a nuestro caso) de :\n",
    "\n",
    "https://stattrek.com/multiple-regression/dummy-variables.aspx\n",
    "\n",
    "El estado que toma valor 0 es siempre el estado de referencia\n",
    "\n",
    "https://towardsdatascience.com/one-hot-encoding-multicollinearity-and-the-dummy-variable-trap-b5840be3c41a"
   ]
  }
 ],
 "metadata": {
  "kernelspec": {
   "display_name": "Python 3",
   "language": "python",
   "name": "python3"
  },
  "language_info": {
   "codemirror_mode": {
    "name": "ipython",
    "version": 3
   },
   "file_extension": ".py",
   "mimetype": "text/x-python",
   "name": "python",
   "nbconvert_exporter": "python",
   "pygments_lexer": "ipython3",
   "version": "3.7.6"
  }
 },
 "nbformat": 4,
 "nbformat_minor": 4
}
